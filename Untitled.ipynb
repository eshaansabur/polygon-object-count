{
 "cells": [
  {
   "cell_type": "code",
   "execution_count": 1,
   "id": "ba8b58fb-4b40-46ea-9e1d-e9ec9607d185",
   "metadata": {},
   "outputs": [
    {
     "name": "stdout",
     "output_type": "stream",
     "text": [
      "strawberry.jpg.json\n",
      "strawberry.jpg\n"
     ]
    }
   ],
   "source": [
    "import json\n",
    "import os\n",
    "\n",
    "# Specify the directory containing the JSON files\n",
    "directory = \"C:\\Projects\\polygon-count\"\n",
    "\n",
    "# Create an empty list to store the JSON data\n",
    "data_list = []\n",
    "\n",
    "# Iterate over each file in the directory\n",
    "for filename in os.listdir(directory):\n",
    "    # Check if the file is a JSON file\n",
    "    if filename.endswith(\".json\"):\n",
    "        # Construct the full file path\n",
    "        print(filename)\n",
    "        # Extract the filename without the extension\n",
    "        extracted_filename = filename.split(\".json\")[0]\n",
    "        print(extracted_filename)\n",
    "        filepath = os.path.join(directory, filename)\n",
    "\n",
    "        # Open the JSON file\n",
    "        with open(filepath, \"r\") as f:\n",
    "            # Load the JSON data\n",
    "            data = json.load(f)\n"
   ]
  },
  {
   "cell_type": "code",
   "execution_count": 2,
   "id": "7d2c9679-e1c1-4ac8-88ee-4f84309ff8d0",
   "metadata": {},
   "outputs": [
    {
     "data": {
      "text/plain": [
       "19"
      ]
     },
     "execution_count": 2,
     "metadata": {},
     "output_type": "execute_result"
    }
   ],
   "source": [
    "len(data['objects'])"
   ]
  },
  {
   "cell_type": "code",
   "execution_count": 3,
   "id": "9966f8d4-7b74-4435-a66b-420716a83fb3",
   "metadata": {},
   "outputs": [],
   "source": [
    "demo_objects = data['objects']"
   ]
  },
  {
   "cell_type": "code",
   "execution_count": 4,
   "id": "599b6da4-b8fd-4b17-b175-0d7e6990e022",
   "metadata": {},
   "outputs": [
    {
     "name": "stdout",
     "output_type": "stream",
     "text": [
      "140\n",
      "72\n",
      "84\n",
      "122\n",
      "129\n",
      "78\n",
      "85\n",
      "78\n",
      "52\n",
      "35\n",
      "26\n",
      "30\n",
      "32\n",
      "107\n",
      "39\n",
      "128\n",
      "50\n",
      "54\n",
      "36\n",
      "sum:  1377\n"
     ]
    }
   ],
   "source": [
    "sum=0\n",
    "for object in demo_objects:\n",
    "    geometryType= object['geometryType']\n",
    "    #print(geometryType)\n",
    "    if geometryType=='polygon':\n",
    "        #print(object['points'])\n",
    "        points = object['points']\n",
    "        print(len(points['exterior']))\n",
    "        sum = sum+ len(points['exterior'])\n",
    "\n",
    "print(\"sum: \", sum)"
   ]
  },
  {
   "cell_type": "code",
   "execution_count": null,
   "id": "1525bbeb-7d69-448a-bff6-fe9c088cca6a",
   "metadata": {},
   "outputs": [],
   "source": [
    "Date :   14/12/2023"
   ]
  },
  {
   "cell_type": "code",
   "execution_count": 1,
   "id": "0ca7ec13-a1eb-45c8-9f48-b031fa5f6d45",
   "metadata": {},
   "outputs": [
    {
     "name": "stdout",
     "output_type": "stream",
     "text": [
      "ProjectInfo(id=14359, name='2023-12-01 14:27:33.582', description='', size='4023130', readme='', workspace_id=3210, images_count=3, items_count=3, datasets_count=3, created_at='2023-12-01T08:29:12.110Z', updated_at='2023-12-14T05:27:56.003Z', type='images', reference_image_url='/image-converter/convert/supervisely-quantigo-public/images/original/U/v/xC/ju8opYnF6vkAEtaDvrLzaqtEhOSzXKUuLtbJcce4DugQz8NlXaXtMED62PjUhc6HmKc5cR0ouivYHegVDUaP3G1LTCSgBbMdE23hkXdOrhbOVRJbEeewt1NjIcIe.jpg', custom_data={}, backup_archive=None)\n"
     ]
    }
   ],
   "source": [
    "import supervisely as sly\n",
    "import os\n",
    "project_id = 14359\n",
    "\n",
    "os.environ['SERVER_ADDRESS'] = ''\n",
    "os.environ['API_TOKEN'] = ''\n",
    "api = sly.Api.from_env()\n",
    "\n",
    "project_info = api.project.get_info_by_id(project_id)\n",
    "print(project_info)"
   ]
  },
  {
   "cell_type": "code",
   "execution_count": 2,
   "id": "36f4243c-dc4c-4726-8cca-9bc7855b8825",
   "metadata": {},
   "outputs": [
    {
     "name": "stdout",
     "output_type": "stream",
     "text": [
      "[DatasetInfo(id=36911, name='2023-12-01 14:27:33.582', description='', size='128886', project_id=14359, images_count=1, items_count=1, created_at='2023-12-01T08:29:12.150Z', updated_at='2023-12-01T08:29:12.150Z', reference_image_url='/image-converter/convert/supervisely-quantigo-public/images/original/U/v/xC/ju8opYnF6vkAEtaDvrLzaqtEhOSzXKUuLtbJcce4DugQz8NlXaXtMED62PjUhc6HmKc5cR0ouivYHegVDUaP3G1LTCSgBbMdE23hkXdOrhbOVRJbEeewt1NjIcIe.jpg'), DatasetInfo(id=36921, name='2023-12-04 01:02:43.569', description='', size='851844', project_id=14359, images_count=1, items_count=1, created_at='2023-12-03T19:03:28.800Z', updated_at='2023-12-03T19:03:28.800Z', reference_image_url='/image-converter/convert/supervisely-quantigo-public/images/original/f/2/as/Tnv2eiKBfjDHIBPIETR9T5mK9lnjk4dkzJgADvHZff0kOptFjwObSKvfsg3ejORFGgCT3FeSmYodZcgYnvWU4RE16cpf7FUCzbIy9hF75K6q5TDdLQUi14Ozm9qe.jpg'), DatasetInfo(id=36922, name='2023-12-04 11:48:49.613', description='', size='3042400', project_id=14359, images_count=1, items_count=1, created_at='2023-12-04T05:57:11.205Z', updated_at='2023-12-04T05:57:11.205Z', reference_image_url='/image-converter/convert/supervisely-quantigo-public/images/original/8/R/6U/AnAGRHk5vqyZD0ZNAVeP2JWyFHoxCYg0gLGnR6ffbhiw1E9DlabWeGnPZAG14i7gYI0dZJTqYdXiOJVpdibU47xHGPYFmJpiDUBaRk7s4AVyVvXJm88FjCfzFbRy.jpg')]\n"
     ]
    }
   ],
   "source": [
    "project_id = 14359\n",
    "datasets = api.dataset.get_list(project_id)\n",
    "datasets\n",
    "print(datasets)"
   ]
  },
  {
   "cell_type": "code",
   "execution_count": 17,
   "id": "d9533326-e133-4f01-8f40-4b7638043aed",
   "metadata": {},
   "outputs": [
    {
     "name": "stdout",
     "output_type": "stream",
     "text": [
      "{}\n",
      "{'QAI_DK1985': 19}\n",
      "{}\n"
     ]
    }
   ],
   "source": [
    "sum=0\n",
    "for dataset in datasets:\n",
    "    #print(dataset)\n",
    "    dataset_id = dataset.id\n",
    "    #print(dataset_id)\n",
    "    ann_infos = api.annotation.get_list(dataset_id)\n",
    "    image_annotation = ann_infos[0].annotation\n",
    "    demo_objects= image_annotation['objects']\n",
    "    #print(demo_objects)\n",
    "    creator_dictionary = {}\n",
    "    for object in demo_objects:\n",
    "        geometryType= object['geometryType']\n",
    "        creator = object['labelerLogin']\n",
    "        #print(creator)\n",
    "        initial_value= 1\n",
    "        #print(geometryType)\n",
    "        if geometryType=='polygon':\n",
    "            #print(object['points'])\n",
    "            if creator not in creator_dictionary.keys():\n",
    "                creator_dictionary[creator]=initial_value\n",
    "                #print(creator_dictionary[creator])\n",
    "            else:\n",
    "                creator_dictionary[creator] = creator_dictionary[creator]+1\n",
    "    print(creator_dictionary)"
   ]
  },
  {
   "cell_type": "code",
   "execution_count": null,
   "id": "359a7920-4c4c-4baf-b8bf-2113d37a9cdb",
   "metadata": {},
   "outputs": [],
   "source": []
  },
  {
   "cell_type": "code",
   "execution_count": null,
   "id": "2aa3155a-9a93-4f69-a3c6-731a37e7fde0",
   "metadata": {},
   "outputs": [],
   "source": []
  }
 ],
 "metadata": {
  "kernelspec": {
   "display_name": "Python 3 (ipykernel)",
   "language": "python",
   "name": "python3"
  },
  "language_info": {
   "codemirror_mode": {
    "name": "ipython",
    "version": 3
   },
   "file_extension": ".py",
   "mimetype": "text/x-python",
   "name": "python",
   "nbconvert_exporter": "python",
   "pygments_lexer": "ipython3",
   "version": "3.11.7"
  }
 },
 "nbformat": 4,
 "nbformat_minor": 5
}
